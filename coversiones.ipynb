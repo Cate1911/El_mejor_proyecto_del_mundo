{
 "cells": [
  {
   "cell_type": "code",
   "execution_count": null,
   "metadata": {},
   "outputs": [],
   "source": [
    "def MolaGramos(NumeroDeMoles:float, MasaMolar:float)->float:\n",
    "    molagramos = NumeroDeMoles*MasaMolar\n",
    "    return molagramos\n",
    "if __name__ == \"__main__\":\n",
    "    NumeroDeMoles:float=float(input(\"cuantas moles tienes y quieres pasar a gramos: \")) \n",
    "    MasaMolar:float=float(input(\"cual es la masa molar:\"))\n",
    "    CalculoMolAMasa = MolaGramos(NumeroDeMoles, MasaMolar)\n",
    "    print(f\"{NumeroDeMoles} moles a gramos son {CalculoMolAMasa}\")"
   ]
  },
  {
   "cell_type": "code",
   "execution_count": null,
   "metadata": {},
   "outputs": [],
   "source": [
    "def GramosaMol(NumeroDeGramos:float, MasaMolar:float)->float:\n",
    "    gramosamol = NumeroDeGramos/MasaMolar\n",
    "    return gramosamol \n",
    "\n",
    "if __name__ == \"__main__\":\n",
    "    NumeroDeGramos:float=float(input(\"cuantos gramos tienes y quieres pasar a moles: \")) \n",
    "    MasaMolar:float=float(input(\"cual es la masa molar:\"))\n",
    "    CalculoMasaAMol = GramosaMol(NumeroDeGramos, MasaMolar)\n",
    "    print(f\"{NumeroDeGramos} moles a gramos son {CalculoMasaAMol}\")"
   ]
  },
  {
   "cell_type": "code",
   "execution_count": null,
   "metadata": {},
   "outputs": [],
   "source": [
    "def LitroAMililitro(*args) -> float:\n",
    "    LitroAMililitro= L*1000\n",
    "    return LitroAMililitro\n",
    "def MililitroALitro(*args)->float:\n",
    "    MililitroALitro= mL/1000\n",
    "    return MililitroALitro\n",
    "def LitroAMetroCubico(*args) -> float:\n",
    "    LitroAMetroCubico= L/1000\n",
    "    return LitroAMetroCubico\n",
    "def MetroCubicoAMililitro(*args)->float:\n",
    "    MetroCubicoAMililitro= m3*1000000\n",
    "    return  MetroCubicoAMililitro\n",
    "if __name__ == \"__main__\":\n",
    "    L:float=float(input(\"cuantos litros tiene: \"))\n",
    "    mL:float=float(input(\"cuantos mL tiene: \"))\n",
    "    m3:float=float(input(\"cuantos metros cubicos tiene: \"))\n",
    "    LitroAMililitro1= LitroAMililitro(L)\n",
    "    MililitroALitro1 = MililitroALitro(mL)\n",
    "    LitroAMetroCubico1 = LitroAMetroCubico(L)\n",
    "    MetroCubicoAMililitro1 = MetroCubicoAMililitro(m3)\n",
    "    print(f\"litro a militro son {LitroAMililitro1}\")\n",
    "    print(f\"Mililitro a Litro son {MililitroALitro1}\")\n",
    "    print(f\"Litro a metro cubico son {LitroAMetroCubico1}\")\n",
    "    print(f\"metro cubico a mililitro son {MetroCubicoAMililitro1}\")\n"
   ]
  },
  {
   "cell_type": "code",
   "execution_count": null,
   "metadata": {},
   "outputs": [],
   "source": [
    "def GramoAKilogramo(*args)->float:\n",
    "    GramoAKilogramo = Gramos / 1000\n",
    "    return GramoAKilogramo\n",
    "def KilogramoAGramo(*args)->float:\n",
    "    KilogramoAGramo = Kilogramos*1000\n",
    "    return KilogramoAGramo\n",
    "def GramoALibra(*args)->float:\n",
    "    GramoALibra= Gramos/453.592\n",
    "    return GramoALibra\n",
    "def KilogramoALibras(*args)->float:\n",
    "    KilogramoALibras = Kilogramos*2,204\n",
    "    return KilogramoALibras\n",
    "if __name__ == \"__main__\":\n",
    "    Gramos:float=float(input(\"Ingrese el numero de gramos: \"))\n",
    "    Kilogramos:float=float(input(\"Ingrese los kilogramos: \"))\n",
    "    GramoAKilogramo1 = GramoAKilogramo(Gramos, Kilogramos)\n",
    "    KilogramoAGramo1 = KilogramoAGramo(Gramos, Kilogramos)\n",
    "    GramoALibra1 = GramoALibra(Gramos)\n",
    "    KilogramoALibras1 = KilogramoALibras(Kilogramos)\n",
    "    print(f\"{Gramos} gramos a Kilogramos son {GramoAKilogramo1}\")\n",
    "    print(f\"{Kilogramos} kilogramos a gramos son {KilogramoAGramo1}\")\n",
    "    print(f\"{Gramos} gramos a libras son  {GramoALibra1}\")\n",
    "    print(f\"{Kilogramos} kilogramos  a libras son {KilogramoALibras1}\")"
   ]
  },
  {
   "cell_type": "code",
   "execution_count": null,
   "metadata": {},
   "outputs": [],
   "source": [
    "def AtmAmmHg(*args)->float:\n",
    "    AtmAmmHg = Atm*760\n",
    "    return AtmAmmHg\n",
    "def mmHgAAtm(*args)->float:\n",
    "    mmHgAAtm = mmHg/760\n",
    "    return mmHgAAtm\n",
    "#def pascales a atm y mmHg\n",
    "if __name__ == \"__main__\":\n",
    "    Atm:float=float(input(\"Ingrese el numero de Atmosferas: \"))\n",
    "    mmHg: float=float(input(\"Ingrese el número de milimetros de mercurio: \"))\n",
    "    mmHgAAtm1 = mmHgAAtm(mmHg)\n",
    "    AtmAmmHg1 = AtmAmmHg(Atm)\n",
    "    print(f\"{Atm} Atm a mmHg son {AtmAmmHg1}\")\n",
    "    print(f\"{mmHg} mmHg a Atm son {mmHgAAtm1}\")"
   ]
  },
  {
   "cell_type": "code",
   "execution_count": null,
   "metadata": {},
   "outputs": [],
   "source": [
    "def KelvinAFahrenheit(*args)->float:\n",
    "    KelvinAFahrenheit = ((9/5)*(Kelvin-273.15)) + 32\n",
    "    return KelvinAFahrenheit\n",
    "def KelvinACelsius(*args)->float:\n",
    "    KelvinACelsius = Kelvin - 273.15\n",
    "    return KelvinACelsius\n",
    "def CelsiusAKelvin(*args)->float:\n",
    "    CelsiusAKelvin = Celsius + 273.15\n",
    "    return CelsiusAKelvin\n",
    "def CelsiusAFahrenheit(*args)->float:\n",
    "    CelsiusAFahrenheit =  ((9/5)*Celsius + 32)\n",
    "    return CelsiusAFahrenheit\n",
    "def FahrenheitACelsius(*args)->float:\n",
    "    FahrenheitACelsius = ((5/9)*(Fahrenheit-32))\n",
    "    return FahrenheitACelsius\n",
    "def FahrenheitAKelvin(*args)->float:\n",
    "    FahrenheitAKelvin =   ((Fahrenheit - 32)*(5/9)) + 273.15\n",
    "    return FahrenheitAKelvin\n",
    "if __name__ == \"__main__\":\n",
    "    Kelvin:float=float(input(\"Ingrese la temperatura en kelvin: \"))\n",
    "    Celsius:float=float(input(\"Ingrese la temperatura en Celsius: \"))\n",
    "    Fahrenheit:float=float(input(\"Ingrese la temperatura en Fahrenheit: \"))\n",
    "    KelvinAFahrenheit1 = KelvinAFahrenheit(Kelvin)\n",
    "    KelvinACelsius1 =  KelvinACelsius(Kelvin)\n",
    "    CelsiusAKelvin1 = CelsiusAKelvin(Celsius)\n",
    "    CelsiusAFahrenheit1 = CelsiusAFahrenheit(Celsius)\n",
    "    FahrenheitACelsius1 = FahrenheitACelsius(Fahrenheit)\n",
    "    FahrenheitAKelvin1 = FahrenheitAKelvin(Fahrenheit)\n",
    "    print(f\"{Kelvin}K a Fahrenheit son {KelvinAFahrenheit1}°F\")\n",
    "    print(f\"{Kelvin}K a celsius son {KelvinACelsius1}°C\")\n",
    "    print(f\"{Celsius}°C a Kelvin son {CelsiusAKelvin1}K\")\n",
    "    print(f\"{Celsius}°C a Fahrenheit son {CelsiusAFahrenheit1}°F\")\n",
    "    print(f\"{Fahrenheit}°F a celsius son {FahrenheitACelsius1}°C\")\n",
    "    print(f\"{Fahrenheit}°F a kelvin son {FahrenheitAKelvin1}K\")"
   ]
  }
 ],
 "metadata": {
  "kernelspec": {
   "display_name": "Python 3",
   "language": "python",
   "name": "python3"
  },
  "language_info": {
   "codemirror_mode": {
    "name": "ipython",
    "version": 3
   },
   "file_extension": ".py",
   "mimetype": "text/x-python",
   "name": "python",
   "nbconvert_exporter": "python",
   "pygments_lexer": "ipython3",
   "version": "3.11.5"
  }
 },
 "nbformat": 4,
 "nbformat_minor": 2
}
