{
 "cells": [
  {
   "cell_type": "code",
   "execution_count": 27,
   "metadata": {},
   "outputs": [
    {
     "name": "stdout",
     "output_type": "stream",
     "text": [
      "Valores atípicos: [1.32, 1.37]\n"
     ]
    },
    {
     "data": {
      "image/png": "[encoded data removed]",
      "text/plain": [
       "<Figure size 640x480 with 1 Axes>"
      ]
     },
     "metadata": {},
     "output_type": "display_data"
    },
    {
     "name": "stdout",
     "output_type": "stream",
     "text": [
      "Datos evaluados:[1.24, 1.22, 1.16, 1.24, 1.22, 1.18, 1.25, 1.23, 1.29, 1.25, 1.32, 1.18, 1.37, 1.2]\n"
     ]
    }
   ],
   "source": [
    "#Tratamiento de datos por método Tukey\n",
    "#importar bibliotecas\n",
    "import seaborn as sns\n",
    "import matplotlib.pyplot as plt\n",
    "import pandas as pd\n",
    "\n",
    "def tratar_datos_por_tukey(datos_muestra): #definir una función para el tratamiento de datos\n",
    "    diagrama_caja = sns.boxplot(x=datos_muestra, color=\"plum\")#crear un diagrama de caja con Seaborn\n",
    "    \n",
    "    #Mostrar estadísticas de resumen utilizando Pandas\n",
    "    df = pd.DataFrame(datos_muestra, columns=[\"Datos\"])\n",
    "    descripcion = df.describe()\n",
    "\n",
    "    # Calcular y mostrar valores atípicos\n",
    "    cuartil_1 = descripcion.at[\"25%\", \"Datos\"] #calcular el cuartil 1 de los datos\n",
    "    cuartil_3 = descripcion.at[\"75%\", \"Datos\"] #calcular el cuartil 3 de los datos\n",
    "    rango_intercuartil = cuartil_3 - cuartil_1\n",
    "\n",
    "    atipicos = [valor for valor in datos_muestra if valor < cuartil_1 - 1.5 * rango_intercuartil or valor > cuartil_3 + 1.5 * rango_intercuartil] #crear un arreglo que incluya datos que esten por encima del rango intercuartílico extendido\n",
    "    \n",
    "    if atipicos: #condición si hay valores atípicos\n",
    "        print(\"Valores atípicos:\", atipicos)\n",
    "    else: #condición si no hay valores atípicos\n",
    "        print(\"No hay valores atípicos.\")\n",
    "    return diagrama_caja\n",
    "\n",
    "if __name__ == \"__main__\": #definir la función main\n",
    "    nombre_diagrama_caja = input(\"Ingrese el nombre que le quiere dar al diagrama de caja: \")\n",
    "    #crear arreglo vacío con los datos que necesitan ser tratados\n",
    "    datos_muestra = []\n",
    "    \n",
    "    while True: #pedirle al usuario los datos que quiere tratar con el ciclo for hasta que ponga un 0 como dato\n",
    "        dato = float(input(\"Ingrese el dato de la muestra o ingrese 0 para salir: \"))\n",
    "        datos_muestra.append(dato) #añadir el dato al arreglo\n",
    "        if dato == 0: #cuando el usuario ingrese 0 en el dato, el ciclo termina\n",
    "            datos_muestra.pop(-1) #eliminar el 0 del arreglo\n",
    "            break\n",
    "    \n",
    "    diagrama = tratar_datos_por_tukey(datos_muestra)#llamar a la función que realiza el tratamiento de los datos\n",
    "    \n",
    "    plt.title(nombre_diagrama_caja, color=\"orchid\")\n",
    "    plt.show(diagrama)#mostrar diagrama de caja\n",
    "    print(\"Datos evaluados:\"+str(datos_muestra)) #imprimir arreglo con los datos evaluados"
   ]
  },
  {
   "cell_type": "code",
   "execution_count": 14,
   "metadata": {},
   "outputs": [
    {
     "name": "stdout",
     "output_type": "stream",
     "text": [
      "La precisión de los datos es de 0.05576790449351346 M.\n",
      "La exactitud de los datos es de un 3.5256410256410504%\n"
     ]
    }
   ],
   "source": [
    "#Precisión en una muestra de datos\n",
    "import numpy as np\n",
    "\n",
    "def calcular_precision(datos_muestra_1): #definir la función para calcular la precisión\n",
    "    desviacion_estandar = np.std(datos_muestra_1) #calcular desviación estándar\n",
    "    return desviacion_estandar\n",
    "\n",
    "def calcular_exactitud(datos_muestra_1, valor_real:float): #definir la función para calcular la exactitud\n",
    "    promedio_1 = np.mean(datos_muestra_1) #calcular el promedio de los datos\n",
    "    error_absoluto = abs(valor_real - promedio_1) #calcular el error absoluto\n",
    "    error_relativo = error_absoluto / valor_real #calcular el error relativo\n",
    "    error_porcentual = error_relativo * 100 #calcular el error porcentual\n",
    "    return error_porcentual\n",
    "\n",
    "if __name__ == \"__main__\": #definir la función main\n",
    "    #crear arreglo vacío con los datos que van a evaluarse\n",
    "    datos_muestra_1 = []\n",
    "    \n",
    "    while True: #pedirle al usuario los datos que quiere evaluar con el ciclo for hasta que ponga un 0 como dato\n",
    "        dato = float(input(\"Ingrese el dato de la muestra o ingrese 0 para salir: \"))\n",
    "        datos_muestra_1.append(dato) #añadir el dato al arreglo\n",
    "        if dato == 0: #cuando el usuario ingrese 0 en el dato, el ciclo termina\n",
    "            datos_muestra_1.pop(-1) #eliminar el 0 del arreglo\n",
    "            break\n",
    "    \n",
    "    valor_real = float(input(\"Ingrese el valor real: \"))\n",
    "    unidad = input(\"Ingrese la unidad de medida de sus datos: \")\n",
    "\n",
    "    precision = calcular_precision(datos_muestra_1) #llamar a la función que realiza el cálculo de la precisión\n",
    "    exactitud = calcular_exactitud(datos_muestra_1, valor_real) #llamar a la función que realiza el cálculo de la exactitud\n",
    "    \n",
    "    print(f\"La precisión de los datos es de {precision} {unidad}.\")\n",
    "    print(f\"La exactitud de los datos es de un {exactitud}%\")"
   ]
  }
 ],
 "metadata": {
  "kernelspec": {
   "display_name": "Python 3",
   "language": "python",
   "name": "python3"
  },
  "language_info": {
   "codemirror_mode": {
    "name": "ipython",
    "version": 3
   },
   "file_extension": ".py",
   "mimetype": "text/x-python",
   "name": "python",
   "nbconvert_exporter": "python",
   "pygments_lexer": "ipython3",
   "version": "3.12.0"
  }
 },
 "nbformat": 4,
 "nbformat_minor": 2
}
